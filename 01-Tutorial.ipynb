{
 "cells": [
  {
   "cell_type": "markdown",
   "id": "c6d53352-6045-4fcb-ba66-f996e3106fe3",
   "metadata": {},
   "source": [
    "# Tutorial notebook\n",
    "\n",
    "This notebook shows:\n",
    "- how to use main user functions to manipulate the datasets\n",
    "- familiarize the participants with the use case\n",
    "- provide some tools to visulaize the use case's data"
   ]
  },
  {
   "cell_type": "markdown",
   "id": "98d49999",
   "metadata": {},
   "source": [
    "### Prerequisites\n",
    "Install the dependencies if not already done. For more information look at the [readme](../README.md) file."
   ]
  },
  {
   "cell_type": "markdown",
   "id": "47449a84",
   "metadata": {},
   "source": [
    "##### For development on Local Machine"
   ]
  },
  {
   "cell_type": "code",
   "execution_count": null,
   "id": "72188356",
   "metadata": {},
   "outputs": [],
   "source": [
    "### Install a virtual environment\n",
    "# Option 1:  using conda (recommended)\n",
    "# !conda create -n venv python=3.12\n",
    "# !conda activate venv\n",
    "\n",
    "# Option 2: using virtualenv\n",
    "# !pip install virtualenv\n",
    "# !virtualenv -p /usr/bin/python3.12 venv\n",
    "# !source venv_lips/bin/activate"
   ]
  },
  {
   "cell_type": "markdown",
   "id": "674b8bb5",
   "metadata": {},
   "source": [
    "##### For Google Colab Users\n",
    "You could also use a GPU device from Runtime > Change runtime type and by selecting T4 GPU."
   ]
  },
  {
   "cell_type": "code",
   "execution_count": null,
   "id": "67297cdb",
   "metadata": {},
   "outputs": [],
   "source": [
    "### Install the welding challenge package\n",
    "# Option 1: Get the last version of challenge welding package framework from PyPI (Recommended)\n",
    "# !pip install 'challenge-welding'"
   ]
  },
  {
   "cell_type": "code",
   "execution_count": null,
   "id": "2dc3146a",
   "metadata": {},
   "outputs": [],
   "source": [
    "# Option 2: Get the last version from github repository\n",
    "# !git clone https://github.com/confianceai/Challenge-Welding-Starter-Kit\n",
    "# !pip install -U ."
   ]
  },
  {
   "cell_type": "markdown",
   "id": "87bb3137",
   "metadata": {},
   "source": [
    "Attention: You may restart the session after this installation, in order that the changes be effective."
   ]
  },
  {
   "cell_type": "code",
   "execution_count": null,
   "id": "a6fd5e52-b5a5-48d5-8b4a-515cac2a77d2",
   "metadata": {},
   "outputs": [],
   "source": [
    "import sys\n",
    "import subprocess"
   ]
  },
  {
   "cell_type": "code",
   "execution_count": null,
   "id": "701b925a-ae30-4baa-acea-7044188b86e1",
   "metadata": {},
   "outputs": [],
   "source": [
    "#Install the challenge_solution from git repository"
   ]
  },
  {
   "cell_type": "code",
   "execution_count": null,
   "id": "61184477-ea45-4812-9966-8a7ddcec1a15",
   "metadata": {},
   "outputs": [],
   "source": [
    "repo_url = \"git+https://github.com/confianceai/Challenge-Welding-Starter-Kit.git\"\n",
    "requirements_url = \"https://raw.githubusercontent.com/confianceai/Challenge-Welding-Starter-Kit/refs/heads/main/requirements.txt\""
   ]
  },
  {
   "cell_type": "code",
   "execution_count": null,
   "id": "b39b6a50-67b2-4689-8179-aaa54e9584df",
   "metadata": {},
   "outputs": [],
   "source": [
    "subprocess.run([sys.executable, \"-m\", \"pip\", \"install\", repo_url])"
   ]
  },
  {
   "cell_type": "code",
   "execution_count": null,
   "id": "14afe546-7916-461e-8357-71662658c1e0",
   "metadata": {
    "scrolled": true
   },
   "outputs": [],
   "source": [
    "subprocess.run([sys.executable, \"-m\", \"pip\", \"install\", \"-r\", requirements_url])"
   ]
  },
  {
   "cell_type": "markdown",
   "id": "c14a3cb8",
   "metadata": {},
   "source": [
    "## Introduction: What is the Welding Quality Detection?\n",
    "\n",
    "In the highly competitive automotive industry, quality control is essential to ensuring vehicle reliability and user safety. A failure in quality control can severely compromise safety, lead to significant financial losses, and cause substantial reputational damage to the company involved.\n",
    "\n",
    "One of the key challenges is improving the reliability of quality control for welding seams in automotive body manufacturing. Currently, this inspection is consistently performed by a human operator due to legal requirements related to user safety. However, during the industrial process, this task is resource-intensive. The main challenge is to develop an AI-based solution that reduces the number of inspections required by the operator through automated pre-validation.\n",
    "\n",
    "See an example of welding below:\n",
    "\n",
    "<div>\n",
    "<img src=\"docs/imgs/hero_image_3D.png\" width=\"500\"/>\n",
    "</div>\n",
    "\n",
    "\n",
    "Within the [Confiance.ai](https://www.confiance.ai/) Research Program, Renault Group and SystemX have collaborated on developing trustworthy AI components to address this challenge. Now part of the [European Trustworthy Foundation (ETF)](https://www.confiance.ai/foundation/), our goal is to ensure that these tools effectively validate proposed AI models according to the trustworthy criteria defined by the industry (Intended Purpose).\n",
    "\n",
    "This industrial use case, provided by Renault Group, ocuses on the “Visual Inspection” theme through a classification problem.\n",
    "\n",
    "The objective is to assess weld quality based on photos taken by cameras on vehicle production lines.\n",
    "\n",
    "A weld can have two distinct states:\n",
    "- OK: The welding is normal.\n",
    "- KO: The welding has defects.\n",
    "\n",
    "Below are some examples of `OK` and `KO` welds on two different seams `c10` and `c19`.\n",
    "\n",
    "<div>\n",
    "<img src=\"docs/imgs/welding_examples.png\" width=\"500\"/>\n",
    "</div>\n",
    "\n",
    "The main goal of the challenge is to **develop an AI component (see [Notebook 3](03-Evaluate_solution.ipynb)) that assists operators in performing weld classification while minimizing the need for manual image inspection and double-checking of classifications**.\n",
    "\n",
    "For defect identification (KO), the system should provide operators with relevant information on the location of the detected defect in the image, thereby reducing the time spent on the control task."
   ]
  },
  {
   "cell_type": "markdown",
   "id": "c8f46e7d",
   "metadata": {},
   "source": [
    "## Load and manipulate the data"
   ]
  },
  {
   "cell_type": "code",
   "execution_count": null,
   "id": "41c95897-fe13-4ad1-afc8-00c695328dd2",
   "metadata": {},
   "outputs": [],
   "source": [
    "\"\"\"\n",
    "This script is a tutorial example of how to use of ChallengeWelding-UI functions\n",
    "\"\"\"\n",
    "# sys.path.insert(0, \"..\") # Uncomment this line For local tests without pkg installation, to make challenge_welding module visible \n",
    "from challenge_welding.user_interface import ChallengeUI\n",
    "from matplotlib import pyplot as plt"
   ]
  },
  {
   "cell_type": "markdown",
   "id": "db87953c-13a3-4203-9603-9792b3dcb4e7",
   "metadata": {},
   "source": [
    "### Init the user interface and list available datasets\n",
    "The dataset contains 22,851 images split across three different welding seams. An important feature of this dataset is its high unbalance. There are only 500 KO images in the entire dataset. *A dataset is considered a list of samples. In this challenge , a sample is a single image.*\n",
    "\n",
    "We begin by listing the available datasets:\n",
    "- `example_mini_dataset`: A demo version of the complete dataset used for demonstration, containing 2,857 images.\n",
    "- `welding-detection-challenge-dataset`: The complete dataset to be used by the participants, containing 22,851 images. \n",
    "\n",
    "See [this docoumentation](../docs/Dataset_description.md) for more information concerning the datasets and their properties."
   ]
  },
  {
   "cell_type": "code",
   "execution_count": null,
   "id": "30fb68b7-d421-4beb-a695-acf9d775c170",
   "metadata": {},
   "outputs": [],
   "source": [
    "# Initiate the user interface\n",
    "my_challenge_UI=ChallengeUI(cache_strategy=\"local\",cache_dir=\"notebooks_cache\")\n",
    "\n",
    "# Get list of available datasets\n",
    "ds_list=my_challenge_UI.list_datasets()\n",
    "print(ds_list)"
   ]
  },
  {
   "cell_type": "markdown",
   "id": "a85c1798-f54b-4ea5-98d8-0824b5901b68",
   "metadata": {},
   "source": [
    "### Display the dataset metadata\n",
    "Create a pandas dataframe containing metadata of all samples. "
   ]
  },
  {
   "cell_type": "code",
   "execution_count": null,
   "id": "ae4a057b-55b7-4c1d-9ac9-30f18e040b1d",
   "metadata": {},
   "outputs": [],
   "source": [
    "# We choose here the dataset named \"example_mini_dataset\"\n",
    "ds_name=\"example_mini_dataset\"\n",
    "\n",
    "# the complete dataset\n",
    "# ds_name=\"welding-detection-challenge-dataset\"\n",
    "\n",
    "# Load all metadata of your dataset as a pandas dataframe\n",
    "meta_df=my_challenge_UI.get_ds_metadata_dataframe(ds_name)\n",
    "\n",
    "display(meta_df)"
   ]
  },
  {
   "cell_type": "markdown",
   "id": "b3761f93-63ee-40a1-a644-fac631707c18",
   "metadata": {},
   "source": [
    "### Exploration of dataset properties\n",
    "\n",
    "\n",
    "\n",
    "\n",
    "You may want to see the different type resolution of image in the dataset"
   ]
  },
  {
   "cell_type": "code",
   "execution_count": null,
   "id": "eb0f75e6-bcff-4aac-a00c-2ef080206977",
   "metadata": {},
   "outputs": [],
   "source": [
    "meta_df[\"resolution\"]=meta_df[\"resolution\"].astype(str)\n",
    "meta_df[\"resolution\"].value_counts()"
   ]
  },
  {
   "cell_type": "markdown",
   "id": "ca66572f-4fec-4d33-940e-2d24b60fe377",
   "metadata": {},
   "source": [
    "With this dataframe you can explore, and draw statistics. For example, you can compute the repartition of weld class"
   ]
  },
  {
   "cell_type": "code",
   "execution_count": null,
   "id": "4a75cfaa-86a1-4d1a-82ed-e5055b8f29fd",
   "metadata": {},
   "outputs": [],
   "source": [
    "meta_df[\"class\"].value_counts()"
   ]
  },
  {
   "cell_type": "markdown",
   "id": "2a498d27-ed07-47bb-88f2-587188a112a4",
   "metadata": {},
   "source": [
    "You may  want to see the class distribution for each welding-seams , or the blur distributoin"
   ]
  },
  {
   "cell_type": "code",
   "execution_count": null,
   "id": "68977580-6508-4e18-abbc-79d01566b65f",
   "metadata": {},
   "outputs": [],
   "source": [
    "meta_df.groupby([\"welding-seams\",\"class\"]).count()[\"sample_id\"]"
   ]
  },
  {
   "cell_type": "code",
   "execution_count": null,
   "id": "34d8f69d-ef2d-43a7-830f-351b098383e3",
   "metadata": {},
   "outputs": [],
   "source": [
    "meta_df.groupby([\"welding-seams\",\"blur_class\"]).count()[\"sample_id\"]"
   ]
  },
  {
   "cell_type": "markdown",
   "id": "91383fdd-7364-4e1b-bbc8-d097e2554c74",
   "metadata": {},
   "source": [
    "Or you may want ot see the distribiution of blur level and luminosity overs each welding-seams"
   ]
  },
  {
   "cell_type": "code",
   "execution_count": null,
   "id": "832d951b-2d21-4bf9-a189-fb555ac0b8cb",
   "metadata": {},
   "outputs": [],
   "source": [
    "meta_df.groupby([\"welding-seams\"])[[\"blur_level\",\"luminosity_level\"]].describe()"
   ]
  },
  {
   "cell_type": "markdown",
   "id": "2ead7ede-9c29-4f6b-b618-6837b01bbb8f",
   "metadata": {},
   "source": [
    "## Display an image\n",
    "### Open an image\n",
    "In this section we open a specific sample from the dataset, and display it"
   ]
  },
  {
   "cell_type": "code",
   "execution_count": null,
   "id": "844c41f0-38ff-4cee-ac3b-16b93b2534e4",
   "metadata": {},
   "outputs": [],
   "source": [
    "sample_idx=56 # idx of tested image in the dataset.\n",
    "sample_meta=meta_df.iloc[sample_idx] # Get medata of image at index sample_idx\n",
    "\n",
    "print(\"opening image metadata with idx ..\", sample_idx)\n",
    "print(sample_meta.to_dict())\n",
    "\n",
    "img=my_challenge_UI.open_image(sample_meta[\"path\"]) # Always Use external_path of sample to open the image\n",
    "\n",
    "print(\"size of the opened image\", img.shape)"
   ]
  },
  {
   "cell_type": "markdown",
   "id": "35a5f679-ce29-48be-951d-bef3cac26eb7",
   "metadata": {},
   "source": [
    "### Display the image\n",
    "We can simply visualize the opened the image using `matplotlib` library."
   ]
  },
  {
   "cell_type": "code",
   "execution_count": null,
   "id": "dbe4fbd9-fabb-428c-9de9-274b8a68e904",
   "metadata": {},
   "outputs": [],
   "source": [
    "plt.imshow(img, interpolation='nearest')\n",
    "plt.show()"
   ]
  },
  {
   "cell_type": "markdown",
   "id": "983db239",
   "metadata": {},
   "source": [
    "You can also the already provided `display_image` function to display directly the required sample"
   ]
  },
  {
   "cell_type": "code",
   "execution_count": null,
   "id": "42392f62",
   "metadata": {},
   "outputs": [],
   "source": [
    "img = my_challenge_UI.display_image(meta_df, index=129, show_info=True)"
   ]
  },
  {
   "cell_type": "code",
   "execution_count": null,
   "id": "c8c365e8",
   "metadata": {},
   "outputs": [],
   "source": [
    "img = my_challenge_UI.display_image(meta_df, index=134, show_info=False)"
   ]
  },
  {
   "cell_type": "markdown",
   "id": "522b05ac-908c-452c-a4f5-455f85326964",
   "metadata": {},
   "source": [
    "## Check dataset integrity\n",
    "\n",
    "Get the sha256 of each image file and compare it to those stored in its metadata. All anomalies ares stored in a Yaml file named  anomalous_samples_list.yml and returned as output of the method check_integrity() . "
   ]
  },
  {
   "cell_type": "code",
   "execution_count": null,
   "id": "1b192723-d583-4084-ba3f-b90bf51ff684",
   "metadata": {},
   "outputs": [],
   "source": [
    "# Check integrity of all files in your dataset (this may take a while . .)\n",
    "\n",
    "# anomalie_list=my_challenge_UI.check_integrity(ds_name)"
   ]
  },
  {
   "cell_type": "code",
   "execution_count": null,
   "id": "8997f632-f5d8-4d0a-bab6-f0cff7b21e2b",
   "metadata": {},
   "outputs": [],
   "source": []
  },
  {
   "cell_type": "code",
   "execution_count": null,
   "id": "ae5127f8-b336-4daa-8f0b-aa118f218b9e",
   "metadata": {},
   "outputs": [],
   "source": []
  }
 ],
 "metadata": {
  "kernelspec": {
   "display_name": "env-codabench",
   "language": "python",
   "name": "env-codabench"
  },
  "language_info": {
   "codemirror_mode": {
    "name": "ipython",
    "version": 3
   },
   "file_extension": ".py",
   "mimetype": "text/x-python",
   "name": "python",
   "nbconvert_exporter": "python",
   "pygments_lexer": "ipython3",
   "version": "3.10.15"
  }
 },
 "nbformat": 4,
 "nbformat_minor": 5
}
