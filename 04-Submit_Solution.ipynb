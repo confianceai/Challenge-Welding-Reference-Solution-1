{
 "cells": [
  {
   "cell_type": "markdown",
   "id": "5b2391fe-8569-4efa-b63e-4c3d4ec13a3e",
   "metadata": {},
   "source": [
    "## Submission folder structure\n",
    "This notebook explains the expected content of a submission folder. Each submitted solution must include the following files and directories:"
   ]
  },
  {
   "cell_type": "raw",
   "id": "563ae7ed-741d-4e1c-b482-a0061de40026",
   "metadata": {},
   "source": [
    "setup.py\n",
    "MANIFEST.in\n",
    "requirements.txt\n",
    "challenge_solution/\n",
    "├── __init__.py\n",
    "└── AIComponent.py\n",
    "    └── MyAIComponent\n",
    "        ├── load_model()\n",
    "        └── predict()\n",
    "\n",
    "This is the minimum requested. If you need to add other files to make your AI component functional, feel free to do so."
   ]
  },
  {
   "cell_type": "markdown",
   "id": "c9d0e08d-3407-4f82-b798-0a8a31d7208d",
   "metadata": {},
   "source": [
    "## Content of the solution folder"
   ]
  },
  {
   "cell_type": "raw",
   "id": "acfa41d4-e60a-404b-9ad1-9a0e5d037534",
   "metadata": {},
   "source": [
    "- setup.py: The file that will be used to build the python pachage of your AI component. It uses the requirements.txt file.\n",
    "- MANIFEST.in: The file that lists all additional files you may have added to your challenge_solution folder, to ensure its integration in your AI component python package.\n",
    "- requirements.txt: the file listing all dependencies with exact versions of used packages.\n",
    "- __init__.py: The file that ensures that all files in this directory will be integrated in the python package of your component when built.\n",
    "- AIComponent.py: The interface module of your AI component. It should contain a class named MyAIComponent describing the interface of your component.\n",
    "- load_model(): load everything needed in the virtual environment to enable the use of predict method.\n",
    "- predict(): Performs predictions on a list of input images, returns the list of predictions."
   ]
  },
  {
   "cell_type": "raw",
   "id": "46b24d75-b0c6-41be-97e1-f7dbf929840f",
   "metadata": {},
   "source": [
    "An example of the interface class is given in Challenge-Welding-Starter-Kit/challenge-welding/ai_component_interface.py"
   ]
  },
  {
   "cell_type": "markdown",
   "id": "1c393782-d299-4390-a361-5d57c56e6b21",
   "metadata": {},
   "source": [
    "class AbstractAIComponent(ABC):\n",
    "    \"\"\"\n",
    "    Abstract base class for AI components.\n",
    "    \"\"\"\n",
    "\n",
    "    def __init__(self):\n",
    "        self.ai_component = None\n",
    "        self.ai_component_meta_informations = {}\n",
    "\n",
    "    @abstractmethod\n",
    "    def load_model(self, config_file=None):\n",
    "        \"\"\"\n",
    "        Abstract method to load the model into the AI Component.\n",
    "        Should be implemented by all subclasses.\n",
    "\n",
    "        Parameters:\n",
    "            config file : str\n",
    "                A optional config file that could be used for the AI component loading\n",
    "\n",
    "        \"\"\"\n",
    "\n",
    "    @abstractmethod\n",
    "    def predict(\n",
    "        self, input_images: list[np.ndarray], images_meta_informations: list[dict], device: str='cuda'  \n",
    "    ) -> dict:\n",
    "        \"\"\"\n",
    "        Abstract method to make predictions using the AI component.\n",
    "\n",
    "        Parameters:\n",
    "            input_images: list[np.ndarrays]\n",
    "                The list of images numpy arrays\n",
    "            images_meta_information: list[dict]\n",
    "                The list of images metadata dictionaries\n",
    "            device: str\n",
    "                The device to run the model on. Can be 'cpu' or 'cuda'. Default is 'cuda'.\n",
    "\n",
    "        Returns:\n",
    "            A dict containing 4 keys \"predictions\", \"probabilities\", \"OOD_scores\"(optional),\"explainability\"(optional).\n",
    "                predictions : A list of the predictions given by the AI component among 3 possible values\n",
    "                [KO, OK UNKNOWN\"]\n",
    "                probabilities : A list of 3-values lists containing predicted scores for each sample in this order\n",
    "                [proba KO, proba OK, proba UNKNOWN]. sum of proba shall be 1 for each lists\n",
    "                OOD_scores : A list of  OOD score predicted by the AI component for each sample. An ood score is a real\n",
    "                 positive number. The image is considered OOD when this score is >=1\n",
    "                \n",
    "        \"\"\""
   ]
  },
  {
   "cell_type": "markdown",
   "id": "d5765a30-4f2f-4160-876d-b16c7458ffeb",
   "metadata": {},
   "source": [
    "An example of such an AI component is provided in this repository reference-solution/AIcomponent.py. This AI component is not designed to have a good performance, it just shows what is \n",
    "xpected to compatible with the evaluation pipeline. An example of script loading this AI component and test it via inference compuatations is given [here](03-Test_AIComponent.py)."
   ]
  },
  {
   "cell_type": "markdown",
   "id": "b19ccbb0-4d1e-495c-9f53-068104e3afc3",
   "metadata": {},
   "source": [
    "Submissions in Codabench are done through the \"My Submissions\" tab. A zip containing all files associated with the submission is uploaded. Be careful to only compress the files and not the folder containing the files."
   ]
  },
  {
   "cell_type": "code",
   "execution_count": null,
   "id": "40f95653-9571-4af8-99cb-53c76e5c8449",
   "metadata": {},
   "outputs": [],
   "source": []
  }
 ],
 "metadata": {
  "kernelspec": {
   "display_name": "Python 3 (ipykernel)",
   "language": "python",
   "name": "python3"
  },
  "language_info": {
   "codemirror_mode": {
    "name": "ipython",
    "version": 3
   },
   "file_extension": ".py",
   "mimetype": "text/x-python",
   "name": "python",
   "nbconvert_exporter": "python",
   "pygments_lexer": "ipython3",
   "version": "3.12.8"
  }
 },
 "nbformat": 4,
 "nbformat_minor": 5
}
